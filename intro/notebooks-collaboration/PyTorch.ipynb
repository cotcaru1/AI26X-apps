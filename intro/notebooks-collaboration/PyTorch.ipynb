{
 "cells": [
  {
   "cell_type": "markdown",
   "id": "c6dd3cf8-ff3b-418c-aaf3-9e59047b296e",
   "metadata": {},
   "source": [
    "import torch\n",
    "\n",
    "tensor1 = torch.tensor(my_array)\n",
    "tensor2 = torch.tensor(my_dataframe.values)\n",
    "tensor3 = torch.tensor(X_train.values, dtype=torch.float)\n",
    "tensor4 = torch.FloatTensor(X_train.values)"
   ]
  },
  {
   "cell_type": "code",
   "execution_count": null,
   "id": "7d7ed934-8e68-4948-b6ca-a8d4414e66dd",
   "metadata": {},
   "outputs": [],
   "source": [
    "torch.tensor(my_array)\n",
    "tensor([[  7, 150,  78,  ...,  35,   0,  54],\n",
    "        [  4,  97,  60,  ...,  28,   0,  22],\n",
    "        ...,\n",
    "        [  5, 136,  82,  ...,   0,   0,  69]], dtype=torch.int32)"
   ]
  },
  {
   "cell_type": "code",
   "execution_count": null,
   "id": "138d6e04-2181-46f3-8910-fd0a13489e89",
   "metadata": {},
   "outputs": [],
   "source": [
    "import torch\n",
    "import torch.nn as nn\n",
    "import torch.nn.functional as F\n",
    "\n",
    "class MyModel(nn.Module):\n",
    "\n",
    "    def __init__(self):\n",
    "        super(MyModel, self).__init__()\n",
    "        # The layers of the neural network model\n",
    "        self.layer1 = nn.Linear(num_features, num_neurons_layer1) 1\n",
    "        self.layer2 = nn.Linear(num_neurons_layer1, num_outputs)\n",
    "\n",
    "    def forward(self, X): 2\n",
    "        x = F.relu(self.layer1(X))\n",
    "        output = F.relu(self.layer2(x)))\n",
    "        return output\n",
    "\n",
    "model = MyModel()"
   ]
  },
  {
   "cell_type": "code",
   "execution_count": null,
   "id": "6413eea3-6584-4f9a-b6cf-95237f69d8de",
   "metadata": {},
   "outputs": [],
   "source": [
    "loss_function = nn.CrossEntropyLoss()\n",
    "optimizer = torch.optim.Adam(model.parameters(), lr=0.01) \n",
    "epochs = 500"
   ]
  },
  {
   "cell_type": "code",
   "execution_count": null,
   "id": "06227373-101b-46f0-8110-2c3dac948b39",
   "metadata": {},
   "outputs": [],
   "source": [
    "for i in range(epochs): \n",
    "    y_predicted = model.forward(X_train) \n",
    "    loss = loss_function(y_predicted, y_train) \n",
    "    optimizer.zero_grad()  \n",
    "    loss.backward() \n",
    "    optimizer.step()"
   ]
  }
 ],
 "metadata": {
  "kernelspec": {
   "display_name": "Python 3.11",
   "language": "python",
   "name": "python3"
  },
  "language_info": {
   "codemirror_mode": {
    "name": "ipython",
    "version": 3
   },
   "file_extension": ".py",
   "mimetype": "text/x-python",
   "name": "python",
   "nbconvert_exporter": "python",
   "pygments_lexer": "ipython3",
   "version": "3.11.9"
  }
 },
 "nbformat": 4,
 "nbformat_minor": 5
}
