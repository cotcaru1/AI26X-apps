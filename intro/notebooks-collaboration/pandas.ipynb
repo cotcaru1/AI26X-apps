{
 "cells": [
  {
   "cell_type": "code",
   "execution_count": 3,
   "id": "0b453d1d-01a3-4bcc-92ff-96c7a736d56c",
   "metadata": {},
   "outputs": [],
   "source": [
    "import pandas as pd\n",
    "\n",
    "dataframe = pd.read_csv(\"tornado.csv\")"
   ]
  },
  {
   "cell_type": "code",
   "execution_count": 4,
   "id": "c6cbeeab-d637-490f-bb9f-6bdbd2afb061",
   "metadata": {},
   "outputs": [
    {
     "data": {
      "text/html": [
       "<div>\n",
       "<style scoped>\n",
       "    .dataframe tbody tr th:only-of-type {\n",
       "        vertical-align: middle;\n",
       "    }\n",
       "\n",
       "    .dataframe tbody tr th {\n",
       "        vertical-align: top;\n",
       "    }\n",
       "\n",
       "    .dataframe thead th {\n",
       "        text-align: right;\n",
       "    }\n",
       "</style>\n",
       "<table border=\"1\" class=\"dataframe\">\n",
       "  <thead>\n",
       "    <tr style=\"text-align: right;\">\n",
       "      <th></th>\n",
       "      <th>yr</th>\n",
       "      <th>mo</th>\n",
       "      <th>dy</th>\n",
       "      <th>date</th>\n",
       "      <th>st</th>\n",
       "      <th>mag</th>\n",
       "      <th>inj</th>\n",
       "      <th>fat</th>\n",
       "      <th>slat</th>\n",
       "      <th>slon</th>\n",
       "      <th>elat</th>\n",
       "      <th>elon</th>\n",
       "      <th>len</th>\n",
       "      <th>wid</th>\n",
       "    </tr>\n",
       "  </thead>\n",
       "  <tbody>\n",
       "    <tr>\n",
       "      <th>0</th>\n",
       "      <td>1950</td>\n",
       "      <td>1</td>\n",
       "      <td>3</td>\n",
       "      <td>1950-01-03</td>\n",
       "      <td>IL</td>\n",
       "      <td>3</td>\n",
       "      <td>3</td>\n",
       "      <td>0</td>\n",
       "      <td>39.10</td>\n",
       "      <td>-89.30</td>\n",
       "      <td>39.12</td>\n",
       "      <td>-89.23</td>\n",
       "      <td>3.6</td>\n",
       "      <td>130</td>\n",
       "    </tr>\n",
       "    <tr>\n",
       "      <th>1</th>\n",
       "      <td>1950</td>\n",
       "      <td>1</td>\n",
       "      <td>3</td>\n",
       "      <td>1950-01-03</td>\n",
       "      <td>MO</td>\n",
       "      <td>3</td>\n",
       "      <td>3</td>\n",
       "      <td>0</td>\n",
       "      <td>38.77</td>\n",
       "      <td>-90.22</td>\n",
       "      <td>38.83</td>\n",
       "      <td>-90.03</td>\n",
       "      <td>9.5</td>\n",
       "      <td>150</td>\n",
       "    </tr>\n",
       "    <tr>\n",
       "      <th>2</th>\n",
       "      <td>1950</td>\n",
       "      <td>1</td>\n",
       "      <td>3</td>\n",
       "      <td>1950-01-03</td>\n",
       "      <td>OH</td>\n",
       "      <td>1</td>\n",
       "      <td>1</td>\n",
       "      <td>0</td>\n",
       "      <td>40.88</td>\n",
       "      <td>-84.58</td>\n",
       "      <td>0.00</td>\n",
       "      <td>0.00</td>\n",
       "      <td>0.1</td>\n",
       "      <td>10</td>\n",
       "    </tr>\n",
       "    <tr>\n",
       "      <th>3</th>\n",
       "      <td>1950</td>\n",
       "      <td>1</td>\n",
       "      <td>13</td>\n",
       "      <td>1950-01-13</td>\n",
       "      <td>AR</td>\n",
       "      <td>3</td>\n",
       "      <td>1</td>\n",
       "      <td>1</td>\n",
       "      <td>34.40</td>\n",
       "      <td>-94.37</td>\n",
       "      <td>0.00</td>\n",
       "      <td>0.00</td>\n",
       "      <td>0.6</td>\n",
       "      <td>17</td>\n",
       "    </tr>\n",
       "    <tr>\n",
       "      <th>4</th>\n",
       "      <td>1950</td>\n",
       "      <td>1</td>\n",
       "      <td>25</td>\n",
       "      <td>1950-01-25</td>\n",
       "      <td>IL</td>\n",
       "      <td>2</td>\n",
       "      <td>0</td>\n",
       "      <td>0</td>\n",
       "      <td>41.17</td>\n",
       "      <td>-87.33</td>\n",
       "      <td>0.00</td>\n",
       "      <td>0.00</td>\n",
       "      <td>0.1</td>\n",
       "      <td>100</td>\n",
       "    </tr>\n",
       "  </tbody>\n",
       "</table>\n",
       "</div>"
      ],
      "text/plain": [
       "     yr  mo  dy        date  st  mag  inj  fat   slat   slon   elat   elon  \\\n",
       "0  1950   1   3  1950-01-03  IL    3    3    0  39.10 -89.30  39.12 -89.23   \n",
       "1  1950   1   3  1950-01-03  MO    3    3    0  38.77 -90.22  38.83 -90.03   \n",
       "2  1950   1   3  1950-01-03  OH    1    1    0  40.88 -84.58   0.00   0.00   \n",
       "3  1950   1  13  1950-01-13  AR    3    1    1  34.40 -94.37   0.00   0.00   \n",
       "4  1950   1  25  1950-01-25  IL    2    0    0  41.17 -87.33   0.00   0.00   \n",
       "\n",
       "   len  wid  \n",
       "0  3.6  130  \n",
       "1  9.5  150  \n",
       "2  0.1   10  \n",
       "3  0.6   17  \n",
       "4  0.1  100  "
      ]
     },
     "execution_count": 4,
     "metadata": {},
     "output_type": "execute_result"
    }
   ],
   "source": [
    "dataframe.head()"
   ]
  },
  {
   "cell_type": "code",
   "execution_count": 5,
   "id": "c30a701a-26bf-486e-832c-7c43cef45ca9",
   "metadata": {},
   "outputs": [
    {
     "data": {
      "text/plain": [
       "0        3\n",
       "1        3\n",
       "2        1\n",
       "3        3\n",
       "4        2\n",
       "        ..\n",
       "67553    1\n",
       "67554    1\n",
       "67555    1\n",
       "67556    1\n",
       "67557    1\n",
       "Name: mag, Length: 67558, dtype: int64"
      ]
     },
     "execution_count": 5,
     "metadata": {},
     "output_type": "execute_result"
    }
   ],
   "source": [
    "dataframe.mag"
   ]
  },
  {
   "cell_type": "code",
   "execution_count": 7,
   "id": "977131bf-a0a2-450d-a069-763187cbcdb9",
   "metadata": {},
   "outputs": [
    {
     "data": {
      "text/plain": [
       "0        3\n",
       "1        3\n",
       "2        1\n",
       "3        3\n",
       "4        2\n",
       "        ..\n",
       "67553    1\n",
       "67554    1\n",
       "67555    1\n",
       "67556    1\n",
       "67557    1\n",
       "Name: mag, Length: 67558, dtype: int64"
      ]
     },
     "execution_count": 7,
     "metadata": {},
     "output_type": "execute_result"
    }
   ],
   "source": [
    "dataframe[\"mag\"]"
   ]
  },
  {
   "cell_type": "code",
   "execution_count": 8,
   "id": "69e1b3d6-5d2a-4f37-ae0d-c7b7fb1373a7",
   "metadata": {},
   "outputs": [
    {
     "data": {
      "text/plain": [
       "pandas.core.series.Series"
      ]
     },
     "execution_count": 8,
     "metadata": {},
     "output_type": "execute_result"
    }
   ],
   "source": [
    "type(dataframe.mag)"
   ]
  },
  {
   "cell_type": "code",
   "execution_count": 9,
   "id": "c98c63c3-5baf-4a29-9651-05cc701380f5",
   "metadata": {},
   "outputs": [],
   "source": [
    "another_dataframe = dataframe.iloc[:,:-1]"
   ]
  },
  {
   "cell_type": "code",
   "execution_count": 10,
   "id": "f69d61e6-219a-47dd-a1b0-102a97c4d87e",
   "metadata": {},
   "outputs": [
    {
     "data": {
      "text/plain": [
       "array([[1950, 1, 3, ..., -89.23, 3.6, 130],\n",
       "       [1950, 1, 3, ..., -90.03, 9.5, 150],\n",
       "       [1950, 1, 3, ..., 0.0, 0.1, 10],\n",
       "       ...,\n",
       "       [2021, 12, 31, ..., -85.7805, 0.95, 50],\n",
       "       [2021, 12, 31, ..., -84.9633, 2.75, 150],\n",
       "       [2021, 12, 31, ..., -83.9498, 2.5, 75]],\n",
       "      shape=(67558, 14), dtype=object)"
      ]
     },
     "execution_count": 10,
     "metadata": {},
     "output_type": "execute_result"
    }
   ],
   "source": [
    "dataframe.values"
   ]
  },
  {
   "cell_type": "code",
   "execution_count": 11,
   "id": "56445fa2-bdde-434c-af67-48e940b73165",
   "metadata": {},
   "outputs": [],
   "source": [
    "X = dataframe.drop('mag', axis=1)\n",
    "y = dataframe.mag"
   ]
  },
  {
   "cell_type": "code",
   "execution_count": 12,
   "id": "731bbac5-7496-461e-afc1-f0d36c5a5f5f",
   "metadata": {},
   "outputs": [
    {
     "data": {
      "text/plain": [
       "0        False\n",
       "1        False\n",
       "2         True\n",
       "3        False\n",
       "4        False\n",
       "         ...  \n",
       "67553     True\n",
       "67554     True\n",
       "67555     True\n",
       "67556     True\n",
       "67557     True\n",
       "Name: mag, Length: 67558, dtype: bool"
      ]
     },
     "execution_count": 12,
     "metadata": {},
     "output_type": "execute_result"
    }
   ],
   "source": [
    "y == 1"
   ]
  },
  {
   "cell_type": "code",
   "execution_count": 13,
   "id": "2dd60bb2-5163-420b-b719-b040ac02d6c9",
   "metadata": {},
   "outputs": [
    {
     "data": {
      "text/plain": [
       "2        1\n",
       "13       1\n",
       "17       1\n",
       "19       1\n",
       "20       1\n",
       "        ..\n",
       "67553    1\n",
       "67554    1\n",
       "67555    1\n",
       "67556    1\n",
       "67557    1\n",
       "Name: mag, Length: 22885, dtype: int64"
      ]
     },
     "execution_count": 13,
     "metadata": {},
     "output_type": "execute_result"
    }
   ],
   "source": [
    "y[y == 1]"
   ]
  },
  {
   "cell_type": "code",
   "execution_count": 14,
   "id": "eab3718e-e54c-4687-abf3-ebfd24c6e743",
   "metadata": {},
   "outputs": [
    {
     "data": {
      "text/plain": [
       "np.int64(22885)"
      ]
     },
     "execution_count": 14,
     "metadata": {},
     "output_type": "execute_result"
    }
   ],
   "source": [
    "y[y == 1].count()"
   ]
  },
  {
   "cell_type": "code",
   "execution_count": 15,
   "id": "6160c6d6-a8ef-49c9-bd6e-53dde9bd4adf",
   "metadata": {},
   "outputs": [
    {
     "data": {
      "text/plain": [
       "np.int64(22885)"
      ]
     },
     "execution_count": 15,
     "metadata": {},
     "output_type": "execute_result"
    }
   ],
   "source": [
    "y[y == 1].sum()"
   ]
  },
  {
   "cell_type": "code",
   "execution_count": 16,
   "id": "3d88b274-1de5-4719-a85f-182e1587d3f6",
   "metadata": {},
   "outputs": [
    {
     "data": {
      "text/html": [
       "<div>\n",
       "<style scoped>\n",
       "    .dataframe tbody tr th:only-of-type {\n",
       "        vertical-align: middle;\n",
       "    }\n",
       "\n",
       "    .dataframe tbody tr th {\n",
       "        vertical-align: top;\n",
       "    }\n",
       "\n",
       "    .dataframe thead th {\n",
       "        text-align: right;\n",
       "    }\n",
       "</style>\n",
       "<table border=\"1\" class=\"dataframe\">\n",
       "  <thead>\n",
       "    <tr style=\"text-align: right;\">\n",
       "      <th></th>\n",
       "      <th>inj</th>\n",
       "      <th>fat</th>\n",
       "      <th>slat</th>\n",
       "      <th>slon</th>\n",
       "      <th>elat</th>\n",
       "      <th>elon</th>\n",
       "      <th>len</th>\n",
       "    </tr>\n",
       "  </thead>\n",
       "  <tbody>\n",
       "    <tr>\n",
       "      <th>inj</th>\n",
       "      <td>1.000000</td>\n",
       "      <td>0.761776</td>\n",
       "      <td>-0.011010</td>\n",
       "      <td>0.031863</td>\n",
       "      <td>0.042888</td>\n",
       "      <td>-0.039848</td>\n",
       "      <td>0.257219</td>\n",
       "    </tr>\n",
       "    <tr>\n",
       "      <th>fat</th>\n",
       "      <td>0.761776</td>\n",
       "      <td>1.000000</td>\n",
       "      <td>-0.011070</td>\n",
       "      <td>0.022091</td>\n",
       "      <td>0.037168</td>\n",
       "      <td>-0.035873</td>\n",
       "      <td>0.237817</td>\n",
       "    </tr>\n",
       "    <tr>\n",
       "      <th>slat</th>\n",
       "      <td>-0.011010</td>\n",
       "      <td>-0.011070</td>\n",
       "      <td>1.000000</td>\n",
       "      <td>-0.173159</td>\n",
       "      <td>0.181996</td>\n",
       "      <td>-0.043552</td>\n",
       "      <td>-0.002392</td>\n",
       "    </tr>\n",
       "    <tr>\n",
       "      <th>slon</th>\n",
       "      <td>0.031863</td>\n",
       "      <td>0.022091</td>\n",
       "      <td>-0.173159</td>\n",
       "      <td>1.000000</td>\n",
       "      <td>0.040213</td>\n",
       "      <td>0.045419</td>\n",
       "      <td>0.052290</td>\n",
       "    </tr>\n",
       "    <tr>\n",
       "      <th>elat</th>\n",
       "      <td>0.042888</td>\n",
       "      <td>0.037168</td>\n",
       "      <td>0.181996</td>\n",
       "      <td>0.040213</td>\n",
       "      <td>1.000000</td>\n",
       "      <td>-0.972665</td>\n",
       "      <td>0.277226</td>\n",
       "    </tr>\n",
       "    <tr>\n",
       "      <th>elon</th>\n",
       "      <td>-0.039848</td>\n",
       "      <td>-0.035873</td>\n",
       "      <td>-0.043552</td>\n",
       "      <td>0.045419</td>\n",
       "      <td>-0.972665</td>\n",
       "      <td>1.000000</td>\n",
       "      <td>-0.271882</td>\n",
       "    </tr>\n",
       "    <tr>\n",
       "      <th>len</th>\n",
       "      <td>0.257219</td>\n",
       "      <td>0.237817</td>\n",
       "      <td>-0.002392</td>\n",
       "      <td>0.052290</td>\n",
       "      <td>0.277226</td>\n",
       "      <td>-0.271882</td>\n",
       "      <td>1.000000</td>\n",
       "    </tr>\n",
       "  </tbody>\n",
       "</table>\n",
       "</div>"
      ],
      "text/plain": [
       "           inj       fat      slat      slon      elat      elon       len\n",
       "inj   1.000000  0.761776 -0.011010  0.031863  0.042888 -0.039848  0.257219\n",
       "fat   0.761776  1.000000 -0.011070  0.022091  0.037168 -0.035873  0.237817\n",
       "slat -0.011010 -0.011070  1.000000 -0.173159  0.181996 -0.043552 -0.002392\n",
       "slon  0.031863  0.022091 -0.173159  1.000000  0.040213  0.045419  0.052290\n",
       "elat  0.042888  0.037168  0.181996  0.040213  1.000000 -0.972665  0.277226\n",
       "elon -0.039848 -0.035873 -0.043552  0.045419 -0.972665  1.000000 -0.271882\n",
       "len   0.257219  0.237817 -0.002392  0.052290  0.277226 -0.271882  1.000000"
      ]
     },
     "execution_count": 16,
     "metadata": {},
     "output_type": "execute_result"
    }
   ],
   "source": [
    "dataframe[[\"inj\",\"fat\",\"slat\",\"slon\",\"elat\",\"elon\",\"len\"]].corr()"
   ]
  }
 ],
 "metadata": {
  "kernelspec": {
   "display_name": "Python 3.11",
   "language": "python",
   "name": "python3"
  },
  "language_info": {
   "codemirror_mode": {
    "name": "ipython",
    "version": 3
   },
   "file_extension": ".py",
   "mimetype": "text/x-python",
   "name": "python",
   "nbconvert_exporter": "python",
   "pygments_lexer": "ipython3",
   "version": "3.11.9"
  }
 },
 "nbformat": 4,
 "nbformat_minor": 5
}
