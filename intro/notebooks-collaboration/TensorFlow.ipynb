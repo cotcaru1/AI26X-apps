{
 "cells": [
  {
   "cell_type": "code",
   "execution_count": null,
   "id": "55ec8d76-f6f2-4e00-a1ae-2aad44f75ddf",
   "metadata": {},
   "outputs": [],
   "source": [
    "import tensorflow as tf\n",
    "\n",
    "model = tf.keras.Sequential([ \n",
    "    tf.keras.layers.Dense( \n",
    "       num_neurons_layer1, activation='relu', input_shape=(8,) \n",
    "    ),\n",
    "    tf.keras.layers.Dense(\n",
    "       units=2, activation='softmax' \n",
    "    )\n",
    "])"
   ]
  },
  {
   "cell_type": "code",
   "execution_count": null,
   "id": "c2e71e0b-e385-4f9e-b02f-be8d3baeed3d",
   "metadata": {},
   "outputs": [],
   "source": [
    "model.compile(\n",
    "    optimizer='adam',\n",
    "    loss='sparse_categorical_crossentropy',\n",
    "    metrics=['accuracy']\n",
    ")"
   ]
  },
  {
   "cell_type": "code",
   "execution_count": null,
   "id": "665d5388-2dfb-45dc-8184-e720a28d3872",
   "metadata": {},
   "outputs": [],
   "source": [
    "epochs = 500\n",
    "model.fit(X_train, y_train, epochs=epochs, verbose=0.5)"
   ]
  },
  {
   "cell_type": "code",
   "execution_count": null,
   "id": "58ccd9c2-f498-4aac-9248-eaea91550399",
   "metadata": {},
   "outputs": [],
   "source": [
    "model.predict(inputs)"
   ]
  },
  {
   "cell_type": "code",
   "execution_count": null,
   "id": "fb834102-3115-4038-a995-3e69600be438",
   "metadata": {},
   "outputs": [],
   "source": [
    "y_predicted_probabilities = model.predict(X_test)\n",
    "y_predicted = tf.argmax(y_predicted_probabilities, axis=1)\n",
    "\n",
    "print(classification_report(y_test, y_predicted))"
   ]
  }
 ],
 "metadata": {
  "kernelspec": {
   "display_name": "Python 3.11",
   "language": "python",
   "name": "python3"
  },
  "language_info": {
   "codemirror_mode": {
    "name": "ipython",
    "version": 3
   },
   "file_extension": ".py",
   "mimetype": "text/x-python",
   "name": "python",
   "nbconvert_exporter": "python",
   "pygments_lexer": "ipython3",
   "version": "3.11.9"
  }
 },
 "nbformat": 4,
 "nbformat_minor": 5
}
